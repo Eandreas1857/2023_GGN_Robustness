{
 "cells": [
  {
   "cell_type": "code",
   "execution_count": 1,
   "metadata": {},
   "outputs": [],
   "source": [
    "import sys\n",
    "sys.path.insert(0,'../scr')\n",
    "from network_prelim import *\n",
    "from Gephi import create_grad_graph_w_subgraphs_graphml as gml"
   ]
  },
  {
   "attachments": {},
   "cell_type": "markdown",
   "metadata": {},
   "source": [
    "### Obtain `results` output for small example network (SUN)\n",
    "\n",
    "Note that the SUN network is very small compaired to the networks FullConn and Strongedges. If you want to run either of these examples, expect 15 to 30 minutes for code to run on a desktop with decent computational power."
   ]
  },
  {
   "cell_type": "code",
   "execution_count": 2,
   "metadata": {},
   "outputs": [
    {
     "name": "stdout",
     "output_type": "stream",
     "text": [
      "pg size 8640\n",
      "2023-05-15 10:13:08.003188:\n",
      "MonostableQuery :: initializing\n",
      "2023-05-15 10:13:08.003509:\n",
      "MonostableQuery :: select MorseGraphIndex from (select MorseGraphIndex, count(*) as StableCount from (select MorseGraphIndex,Vertex from MorseGraphVertices except select MorseGraphIndex,Source from MorseGraphEdges) group by MorseGraphIndex) where StableCount=1;\n",
      "2023-05-15 10:13:08.004135:\n",
      "MonostableQuery :: constructed\n",
      "4846\n",
      "cG size 489\n",
      "True 2\n",
      "True 2\n",
      "diagP size 203\n",
      "True\n",
      "('../networks/SUN', {'PG size': 8640, 'G size': 4846, 'G edges': 27653, 'cG size': 489, 'cG edges': 2317, 'P size': 238, 'P edges': 697, 'diagP size': 203, 'diagP edges': 578, 'diagP nodes in G': 2406, 'diagP edges in G': 4575, 'path exists': True, 'WCut': 0.08994361107942998, 'eigval': -0.3483, 'Ck cut': {0: 0.008553322540029776, 1: 0.08139028853940021}, 'Ck start/stop': [[], [0, 1], [484, 486, 487], []], 'markov_results': {'B sum': 1.0, 0: 0.0020194551001316563, 1: 0.00045266551822338097, 'leak': 0.6086994113874354, 'rpert': 0.03720620426942261, 'pert': 0.0, 'skip': 0.35162226372478694, 'leak + skip': 0.9603216751122223}})\n"
     ]
    }
   ],
   "source": [
    "network_filename = 'SUN'\n",
    "network_location = \"../networks/\" +  network_filename\n",
    "with open(network_location + \".txt\",\"r\") as f:\n",
    "    network = f.read()\n",
    "results = get_results_from_string(network, network_location)"
   ]
  },
  {
   "attachments": {},
   "cell_type": "markdown",
   "metadata": {},
   "source": [
    "#### Breaking down code above into steps and making .graphml file for Gephi (SUN Example)"
   ]
  },
  {
   "cell_type": "code",
   "execution_count": 3,
   "metadata": {},
   "outputs": [
    {
     "name": "stdout",
     "output_type": "stream",
     "text": [
      "pg size 8640\n",
      "2023-05-15 10:13:10.829195:\n",
      "MonostableQuery :: initializing\n",
      "2023-05-15 10:13:10.829508:\n",
      "MonostableQuery :: select MorseGraphIndex from (select MorseGraphIndex, count(*) as StableCount from (select MorseGraphIndex,Vertex from MorseGraphVertices except select MorseGraphIndex,Source from MorseGraphEdges) group by MorseGraphIndex) where StableCount=1;\n",
      "2023-05-15 10:13:10.830104:\n",
      "MonostableQuery :: constructed\n",
      "4846\n",
      "cG size 489\n",
      "True 2\n",
      "True 2\n",
      "diagP size 203\n",
      "Path Exists =  True\n",
      "('SUN', {'PG size': 8640, 'G size': 4846, 'G edges': 27653, 'cG size': 489, 'cG edges': 2317, 'P size': 238, 'P edges': 697, 'diagP size': 203, 'diagP edges': 578, 'diagP nodes in G': 2406, 'diagP edges in G': 4575, 'path exists': True, 'WCut': 0.08994361107942998, 'eigval': -0.3483, 'Ck cut': {0: 0.008553322540029776, 1: 0.08139028853940021}, 'Ck start/stop': [[], [0, 1], [484, 486, 487], []], 'markov_results': {'B sum': 1.0, 0: 0.0020194551001316563, 1: 0.00045266551822338097, 'leak': 0.6086994113874354, 'rpert': 0.03720620426942261, 'pert': 0.0, 'skip': 0.35162226372478694, 'leak + skip': 0.9603216751122223}})\n"
     ]
    }
   ],
   "source": [
    "network_filename = 'SUN'\n",
    "network_location = \"../networks/\" +  network_filename\n",
    "database = Database(network_location+'.db')\n",
    "with open(network_location+'.txt',\"r\") as f:\n",
    "        network = f.read()\n",
    "\n",
    "\n",
    "pg = ParameterGraph(database.network)\n",
    "print('pg size',pg.size())\n",
    "out_edges = get_number_out_edges_from_string(network)\n",
    "Hb_list, Kni_list = get_Hb_Kni_list(database)\n",
    "Hb_max = len(Hb_list)-1\n",
    "Kni_max = len(Kni_list)-1\n",
    "\n",
    "FP_Poset, FP_Regions = get_FP_Poset(out_edges)\n",
    "\n",
    "# Compute G (chemical gradient graph) and save.\n",
    "\n",
    "G = get_grad_graph_strict_bagged(database, network)\n",
    "\n",
    "# Compute condensation cG of G\n",
    "\n",
    "strongcc = strongly_connected_components_by_MGI(G, database)\n",
    "cG, scc = condensation(G, strongcc)\n",
    "print('cG size', len(cG))\n",
    "\n",
    "# Make cG a networkx object\n",
    "N = nx.DiGraph()\n",
    "for node in cG:\n",
    "    N.add_node(node)\n",
    "    for edge in cG[node]:\n",
    "        N.add_edge(node, edge)\n",
    "\n",
    "# Add edge weights to cG (now N)\n",
    "N, scc_edges = add_source_weight_to_cond(G, N, scc, save_count = True)\n",
    "\n",
    "# Obtain starting and stopping nodes of cG\n",
    "start_set, stop_set = return_start_stop_set(database, cG, scc, Hb_max, Kni_max, FP_Regions)\n",
    "\n",
    "# Compute Tensor Product graph (P) and the restricted diagonal Product (diagP)\n",
    "P = get_product_graph(database, N, scc, FP_Poset, start_set, stop_set)\n",
    "\n",
    "lenP_nodes = len(P.nodes())\n",
    "lenP_edges = len(P.edges())\n",
    "\n",
    "breaks = find_breaks_in_FG_comb(database, network_filename, P, scc, Hb_max, Kni_max, FP_Regions) \n",
    "keep = build_diag(Hb_max, Kni_max, breaks)\n",
    "diagP = remove_unnecessary_nodes_in_P(P, keep, scc)\n",
    "\n",
    "reachability(diagP, start_set, stop_set)\n",
    "print('diagP size', len(diagP))\n",
    "edges_in_G = 0\n",
    "nodes_in_G = 0\n",
    "for n in diagP:\n",
    "    nodes_in_G += len(scc[n])\n",
    "    for e in diagP[n]:\n",
    "        edges_in_G += scc_edges[(n,e)]\n",
    "\n",
    "plot_FG_layer_comb_in_G(diagP, scc, Hb_max, network_filename+'scc_FG_layer_combos')\n",
    "\n",
    "\n",
    "# Test if any paths exist\n",
    "path_exists = any_path_exists(diagP, start_set, stop_set)\n",
    "print('Path Exists = ', path_exists)\n",
    "\n",
    "if path_exists == True:\n",
    "    c, eigval, m, C1, C2, Ck_cut = find_best_clustering(diagP, start_set, stop_set, network_filename, 20, nodelist = None, data = 'weight', in_out_degree = 'out', save_file = True, general_cut=True)\n",
    "else:\n",
    "    c, eigval, m, C1, C2, Ck_cut = 0, 0, 0, [], [], 0\n",
    "\n",
    "C1s = list(set(start_set).intersection(C1))\n",
    "C1t = list(set(stop_set).intersection(C1))\n",
    "C2s = list(set(start_set).intersection(C2))\n",
    "C2t = list(set(stop_set).intersection(C2))\n",
    "\n",
    "mP =  P_with_absorbing_nodes(database, N, diagP, scc, FP_Regions, stop_set)\n",
    "markov_results = absorbing_Markov_prob(mP, scc, start_set)\n",
    "\n",
    "results = (network_filename, {'PG size': pg.size(), 'G size': len(G.nodes()), 'G edges': len(G.edges()), 'cG size': len(cG.nodes()), 'cG edges': len(cG.edges()), 'P size' : lenP_nodes, 'P edges': lenP_edges, 'diagP size': len(diagP.nodes()), 'diagP edges': len(diagP.edges()), 'diagP nodes in G': nodes_in_G, 'diagP edges in G': edges_in_G, 'path exists': path_exists, 'WCut': c, 'eigval': eigval, 'Ck cut': Ck_cut, 'Ck start/stop': [C1s, C1t, C2s, C2t], 'markov_results': markov_results})\n",
    "\n",
    "print(results, flush=True)"
   ]
  },
  {
   "cell_type": "code",
   "execution_count": 4,
   "metadata": {},
   "outputs": [],
   "source": [
    "gml(database, scc, N, diagP, P, FP_Regions, start_set, stop_set, network_location+'.graphml')"
   ]
  }
 ],
 "metadata": {
  "interpreter": {
   "hash": "127d7d7821fb092cbea034edece96b1c48d9329f32433b570cca2d4753539bb2"
  },
  "kernelspec": {
   "display_name": "Python 3.7.6 ('base')",
   "language": "python",
   "name": "python3"
  },
  "language_info": {
   "codemirror_mode": {
    "name": "ipython",
    "version": 3
   },
   "file_extension": ".py",
   "mimetype": "text/x-python",
   "name": "python",
   "nbconvert_exporter": "python",
   "pygments_lexer": "ipython3",
   "version": "3.7.6"
  },
  "orig_nbformat": 4
 },
 "nbformat": 4,
 "nbformat_minor": 2
}
